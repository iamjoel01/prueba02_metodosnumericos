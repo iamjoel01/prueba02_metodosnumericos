{
 "cells": [
  {
   "cell_type": "markdown",
   "id": "b61d33c5-1ae6-4476-ab25-440d7076d4c1",
   "metadata": {},
   "source": [
    "# Ejercicio 10\n",
    "\n",
    "Nombre: Joel Quilumba"
   ]
  },
  {
   "cell_type": "code",
   "execution_count": 18,
   "id": "c2a2c73e-f3dc-431d-8ab7-6895c2e155a2",
   "metadata": {},
   "outputs": [],
   "source": [
    "def calc_determinante(A: list[list[float]]) -> float:\n",
    "    \n",
    "    n = len(A)\n",
    "    U = [row[:] for row in A]\n",
    "    detA = 1\n",
    "    for i in range(n):\n",
    "        # Buscar el máximo en la columna i para hacer el pivoteo\n",
    "        max_row = i\n",
    "        for w in range(i + 1, n):\n",
    "            if abs(U[w][i]) > abs(U[max_row][i]):\n",
    "                max_row = w\n",
    "        # Intercambiar las filas si es necesario\n",
    "        if i != max_row:\n",
    "            U[i], U[max_row] = U[max_row], U[i]\n",
    "            detA *= -1  # Cambiar el signo del determinante\n",
    "        if U[i][i] == 0:\n",
    "            return 0\n",
    "        # Eliminar los elementos debajo del pivote\n",
    "        for w in range(i + 1, n):\n",
    "            factor = U[w][i] / U[i][i]\n",
    "            for j in range(i, n):\n",
    "                U[w][j] -= factor * U[i][j]\n",
    "    # El determinante es el producto de los elementos diagonales de U\n",
    "    for i in range(n):\n",
    "        detA *= U[i][i]\n",
    "    return detA"
   ]
  },
  {
   "cell_type": "code",
   "execution_count": 19,
   "id": "e23540cc-0a35-4add-a3cb-4c800d96a5eb",
   "metadata": {},
   "outputs": [
    {
     "name": "stdout",
     "output_type": "stream",
     "text": [
      "Determinante de A: 9912776.0\n"
     ]
    }
   ],
   "source": [
    "# Ejercicio1:\n",
    "A = [\n",
    "    [-4, 2, -4, -4, 1, 2, 5, 3, 5, 1],\n",
    "    [1, 0, 4, 3, 0, -2, 3, 0, 1, 5],\n",
    "    [5, 5, -4, 5, -4, 2, 2, 2, 4, 4],\n",
    "    [-1, 3, 4, -1, -4, 0, 5, 0, 0, 5],\n",
    "    [4, 1, 4, 2, 0, 0, 3, -1, 0, 2],\n",
    "    [2, -2, 1, -1, -2, -3, 2, -2, 4, -1],\n",
    "    [3, -2, -3, -2, -1, -3, 5, -1, 5, 0],\n",
    "    [3, 4, -3, 3, -2, 2, -4, -4, 1, 5],\n",
    "    [-4, 0, 3, 3, -3, -2, -2, 0, 5, -4],\n",
    "    [-2, 4, 4, -2, -1, 1, 5, -1, 3, -3],\n",
    "]\n",
    "\n",
    "print(f\"Determinante de A: {calc_determinante(A)}\")"
   ]
  },
  {
   "cell_type": "code",
   "execution_count": 20,
   "id": "af3f0e91-7167-411d-8a95-9a988c7a0435",
   "metadata": {},
   "outputs": [
    {
     "name": "stdout",
     "output_type": "stream",
     "text": [
      "Determinante de A: 2341546.0\n"
     ]
    }
   ],
   "source": [
    "# Ejercicio2:\n",
    "A = [\n",
    "    [2,2,4,5,-2,-3,2,-2],\n",
    "    [-1,-1,3,2,1,1,-4,4],\n",
    "    [2,5,-3,-3,-2,2,5,3],\n",
    "    [-2,-4,0,1,-1,5,-4,-1],\n",
    "    [1,-2,-1,5,5,2,1,-2],\n",
    "    [5,4,0,3,4,-1,-3,-2],\n",
    "    [4,-4,1,2,3,3,-1,3],\n",
    "    [-2,1,-3,0,5,4,4,-4],\n",
    "]\n",
    "\n",
    "print(f\"Determinante de A: {calc_determinante(A)}\")"
   ]
  },
  {
   "cell_type": "code",
   "execution_count": null,
   "id": "05ca9ed2-efc4-493d-b745-057816193c37",
   "metadata": {},
   "outputs": [],
   "source": []
  }
 ],
 "metadata": {
  "kernelspec": {
   "display_name": "Python 3 (ipykernel)",
   "language": "python",
   "name": "python3"
  },
  "language_info": {
   "codemirror_mode": {
    "name": "ipython",
    "version": 3
   },
   "file_extension": ".py",
   "mimetype": "text/x-python",
   "name": "python",
   "nbconvert_exporter": "python",
   "pygments_lexer": "ipython3",
   "version": "3.11.7"
  }
 },
 "nbformat": 4,
 "nbformat_minor": 5
}
